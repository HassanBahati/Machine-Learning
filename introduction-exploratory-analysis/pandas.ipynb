{
 "cells": [
  {
   "cell_type": "markdown",
   "metadata": {},
   "source": []
  },
  {
   "cell_type": "code",
   "execution_count": 17,
   "metadata": {},
   "outputs": [],
   "source": [
    "import pandas as pd\n",
    "import numpy as np\n"
   ]
  },
  {
   "cell_type": "code",
   "execution_count": 18,
   "metadata": {},
   "outputs": [
    {
     "name": "stdout",
     "output_type": "stream",
     "text": [
      "0     360\n",
      "1    7891\n",
      "2    9761\n",
      "3    3907\n",
      "4    4338\n",
      "5    5373\n",
      "Name: steps, dtype: int64\n"
     ]
    }
   ],
   "source": [
    "\n",
    "# Pandas Series creation and indexing \n",
    "\n",
    "step_data = [360,7891, 9761, 3907, 4338, 5373]\n",
    "\n",
    "step_counts = pd.Series(step_data, name=\"steps\")\n",
    "\n",
    "print(step_counts)"
   ]
  },
  {
   "cell_type": "code",
   "execution_count": 19,
   "metadata": {},
   "outputs": [
    {
     "name": "stdout",
     "output_type": "stream",
     "text": [
      "2015-03-29     360\n",
      "2015-03-30    7891\n",
      "2015-03-31    9761\n",
      "2015-04-01    3907\n",
      "2015-04-02    4338\n",
      "2015-04-03    5373\n",
      "Freq: D, Name: steps, dtype: int64\n"
     ]
    }
   ],
   "source": [
    "# add date range to a series \n",
    "\n",
    "step_counts.index = pd.date_range('20150329', periods=6)\n",
    "\n",
    "print(step_counts)"
   ]
  },
  {
   "cell_type": "code",
   "execution_count": 20,
   "metadata": {},
   "outputs": [
    {
     "name": "stdout",
     "output_type": "stream",
     "text": [
      "3907\n",
      "3907\n",
      "2015-04-01    3907\n",
      "2015-04-02    4338\n",
      "2015-04-03    5373\n",
      "Freq: D, Name: steps, dtype: int64\n"
     ]
    }
   ],
   "source": [
    "# select data by index values \n",
    "# just like a dict\n",
    "\n",
    "print(step_counts['2015-04-01'])\n",
    "\n",
    "# or by indexing position like in arrays \n",
    "print(step_counts[3])\n",
    "\n",
    "# select all of april\n",
    "print(step_counts['2015-04'])"
   ]
  },
  {
   "cell_type": "code",
   "execution_count": 21,
   "metadata": {},
   "outputs": [
    {
     "name": "stdout",
     "output_type": "stream",
     "text": [
      "int64\n"
     ]
    },
    {
     "ename": "AttributeError",
     "evalue": "module 'numpy' has no attribute 'float'",
     "output_type": "error",
     "traceback": [
      "\u001b[0;31m---------------------------------------------------------------------------\u001b[0m",
      "\u001b[0;31mAttributeError\u001b[0m                            Traceback (most recent call last)",
      "Cell \u001b[0;32mIn[21], line 7\u001b[0m\n\u001b[1;32m      4\u001b[0m \u001b[39mprint\u001b[39m(step_counts\u001b[39m.\u001b[39mdtypes)\n\u001b[1;32m      6\u001b[0m \u001b[39m# convert to a float \u001b[39;00m\n\u001b[0;32m----> 7\u001b[0m step_counts \u001b[39m=\u001b[39m step_counts\u001b[39m.\u001b[39mastype(np\u001b[39m.\u001b[39;49mfloat)\n",
      "File \u001b[0;32m~/.local/lib/python3.8/site-packages/numpy/__init__.py:284\u001b[0m, in \u001b[0;36m__getattr__\u001b[0;34m(attr)\u001b[0m\n\u001b[1;32m    281\u001b[0m     \u001b[39mfrom\u001b[39;00m \u001b[39m.\u001b[39;00m\u001b[39mtesting\u001b[39;00m \u001b[39mimport\u001b[39;00m Tester\n\u001b[1;32m    282\u001b[0m     \u001b[39mreturn\u001b[39;00m Tester\n\u001b[0;32m--> 284\u001b[0m \u001b[39mraise\u001b[39;00m \u001b[39mAttributeError\u001b[39;00m(\u001b[39m\"\u001b[39m\u001b[39mmodule \u001b[39m\u001b[39m{!r}\u001b[39;00m\u001b[39m has no attribute \u001b[39m\u001b[39m\"\u001b[39m\n\u001b[1;32m    285\u001b[0m                      \u001b[39m\"\u001b[39m\u001b[39m{!r}\u001b[39;00m\u001b[39m\"\u001b[39m\u001b[39m.\u001b[39mformat(\u001b[39m__name__\u001b[39m, attr))\n",
      "\u001b[0;31mAttributeError\u001b[0m: module 'numpy' has no attribute 'float'"
     ]
    }
   ],
   "source": [
    "# Data types viewing and converting\n",
    "\n",
    "#view a data type\n",
    "print(step_counts.dtypes)\n",
    "\n",
    "# convert to a float \n",
    "step_counts = step_counts.astype(np.float)"
   ]
  },
  {
   "cell_type": "code",
   "execution_count": null,
   "metadata": {},
   "outputs": [
    {
     "name": "stdout",
     "output_type": "stream",
     "text": [
      "      0     1\n",
      "0   360  10.7\n",
      "1  7891   0.0\n",
      "2  9761   NaN\n",
      "3  3907   2.4\n",
      "4  4338  15.3\n",
      "5  5373  10.9\n"
     ]
    }
   ],
   "source": [
    "# DataFrames can be created from lists, dicts, pandas series \n",
    "\n",
    "# clycling distance \n",
    "cycling_data = [10.7, 0, None , 2.4, 15.3, 10.9, None]\n",
    "\n",
    "# creating a tuple of data\n",
    "joined_data = list(zip(step_data, cycling_data))\n",
    "\n",
    "# the data frame \n",
    "activity_df = pd.DataFrame(joined_data)\n",
    "\n",
    "print(activity_df)"
   ]
  },
  {
   "cell_type": "code",
   "execution_count": null,
   "metadata": {},
   "outputs": [
    {
     "name": "stdout",
     "output_type": "stream",
     "text": [
      "            Walking  Cycling\n",
      "2015-03-29      360     10.7\n",
      "2015-03-30     7891      0.0\n",
      "2015-03-31     9761      NaN\n",
      "2015-04-01     3907      2.4\n",
      "2015-04-02     4338     15.3\n",
      "2015-04-03     5373     10.9\n"
     ]
    }
   ],
   "source": [
    "# label columns and an index can be added\n",
    "\n",
    "# add a column name to dataframe\n",
    "activity_df = pd.DataFrame(\n",
    "    joined_data,\n",
    "    index = pd.date_range('20150329', periods=6),\n",
    "    columns=['Walking', 'Cycling']\n",
    ")\n",
    "\n",
    "print(activity_df)"
   ]
  },
  {
   "cell_type": "code",
   "execution_count": null,
   "metadata": {},
   "outputs": [
    {
     "name": "stdout",
     "output_type": "stream",
     "text": [
      "Walking    3907.0\n",
      "Cycling       2.4\n",
      "Name: 2015-04-01 00:00:00, dtype: float64\n"
     ]
    }
   ],
   "source": [
    "# Dataframe rows can be indexted by row using 'loc' and 'iloc' methods \n",
    "print(activity_df.loc['2015-04-01'])"
   ]
  },
  {
   "cell_type": "code",
   "execution_count": null,
   "metadata": {},
   "outputs": [
    {
     "name": "stdout",
     "output_type": "stream",
     "text": [
      "Walking    3907.0\n",
      "Cycling       2.4\n",
      "Name: 2015-04-01 00:00:00, dtype: float64\n"
     ]
    }
   ],
   "source": [
    "# select row of data by integer position\n",
    "print(activity_df.iloc[-3])"
   ]
  },
  {
   "cell_type": "code",
   "execution_count": null,
   "metadata": {},
   "outputs": [
    {
     "name": "stdout",
     "output_type": "stream",
     "text": [
      "2015-03-29     360\n",
      "2015-03-30    7891\n",
      "2015-03-31    9761\n",
      "2015-04-01    3907\n",
      "2015-04-02    4338\n",
      "2015-04-03    5373\n",
      "Freq: D, Name: Walking, dtype: int64\n"
     ]
    }
   ],
   "source": [
    "# DataFrame columns can be indexed by name \n",
    "print(activity_df['Walking'])"
   ]
  },
  {
   "cell_type": "code",
   "execution_count": null,
   "metadata": {},
   "outputs": [
    {
     "name": "stdout",
     "output_type": "stream",
     "text": [
      "2015-03-29     360\n",
      "2015-03-30    7891\n",
      "2015-03-31    9761\n",
      "2015-04-01    3907\n",
      "2015-04-02    4338\n",
      "2015-04-03    5373\n",
      "Freq: D, Name: Walking, dtype: int64\n"
     ]
    }
   ],
   "source": [
    "# dataframes columns can also be indexed as properties\n",
    "print(activity_df.Walking)"
   ]
  },
  {
   "cell_type": "code",
   "execution_count": null,
   "metadata": {},
   "outputs": [
    {
     "name": "stdout",
     "output_type": "stream",
     "text": [
      "2015-03-29     360\n",
      "2015-03-30    7891\n",
      "2015-03-31    9761\n",
      "2015-04-01    3907\n",
      "2015-04-02    4338\n",
      "2015-04-03    5373\n",
      "Freq: D, Name: Walking, dtype: int64\n"
     ]
    }
   ],
   "source": [
    "#data frames can be indexed by integer\n",
    "print(activity_df.iloc[:,0])"
   ]
  },
  {
   "cell_type": "code",
   "execution_count": null,
   "metadata": {},
   "outputs": [
    {
     "name": "stdout",
     "output_type": "stream",
     "text": [
      "   sepal_length  sepal_width  petal_length  petal_width      species\n",
      "0           5.1          3.5           1.4          0.2  Iris-setosa\n",
      "1           4.9          3.0           1.4          0.2  Iris-setosa\n",
      "2           4.7          3.2           1.3          0.2  Iris-setosa\n",
      "3           4.6          3.1           1.5          0.2  Iris-setosa\n",
      "4           5.0          3.6           1.4          0.2  Iris-setosa\n"
     ]
    }
   ],
   "source": [
    "# read data from pandas \n",
    "\n",
    "#the location of data file\n",
    "filepath = '../data/Iris_Data.csv'\n",
    "\n",
    "#import the data\n",
    "data = pd.read_csv(filepath)\n",
    "\n",
    "#print few columns\n",
    "print(data.iloc[:5])\n"
   ]
  },
  {
   "cell_type": "code",
   "execution_count": null,
   "metadata": {},
   "outputs": [
    {
     "name": "stdout",
     "output_type": "stream",
     "text": [
      "   petal_width      species  sepal_area\n",
      "0          0.2  Iris-setosa       17.85\n",
      "1          0.2  Iris-setosa       14.70\n",
      "2          0.2  Iris-setosa       15.04\n",
      "3          0.2  Iris-setosa       14.26\n",
      "4          0.2  Iris-setosa       18.00\n"
     ]
    }
   ],
   "source": [
    "# assigning new data to a data frame\n",
    "\n",
    "#create a new column that is a product of both measurements\n",
    "data['sepal_area'] = data.sepal_length * data.sepal_width\n",
    "\n",
    "#print a few rows and columns\n",
    "print(data.iloc[:5, -3:])"
   ]
  },
  {
   "cell_type": "code",
   "execution_count": null,
   "metadata": {},
   "outputs": [
    {
     "name": "stdout",
     "output_type": "stream",
     "text": [
      "       species  sepal_area  abbrev\n",
      "0  Iris-setosa       17.85  setosa\n",
      "1  Iris-setosa       14.70  setosa\n",
      "2  Iris-setosa       15.04  setosa\n",
      "3  Iris-setosa       14.26  setosa\n",
      "4  Iris-setosa       18.00  setosa\n"
     ]
    }
   ],
   "source": [
    "# appying a function to a data frame column  \n",
    "\n",
    "#the lambda function apples what follows it to each row of data \n",
    "data['abbrev'] = (data.species.apply(lambda x: x.replace('Iris-','')))\n",
    "\n",
    "print(data.iloc[:5, -3:])"
   ]
  },
  {
   "cell_type": "code",
   "execution_count": 22,
   "metadata": {},
   "outputs": [
    {
     "name": "stdout",
     "output_type": "stream",
     "text": [
      "            species  sepal_area     abbrev\n",
      "0       Iris-setosa       17.85     setosa\n",
      "1       Iris-setosa       14.70     setosa\n",
      "148  Iris-virginica       21.08  virginica\n",
      "149  Iris-virginica       17.70  virginica\n"
     ]
    }
   ],
   "source": [
    "# Two dataframes can be concatenated along either dimensions \n",
    "\n",
    "# concatenate the first two and last 2 rows \n",
    "small_data = pd.concat([data.iloc[:2], data.iloc[-2:]])\n",
    "\n",
    "print(small_data.iloc[:,-3:])"
   ]
  },
  {
   "cell_type": "code",
   "execution_count": 23,
   "metadata": {},
   "outputs": [
    {
     "name": "stdout",
     "output_type": "stream",
     "text": [
      "species\n",
      "Iris-setosa        50\n",
      "Iris-versicolor    50\n",
      "Iris-virginica     50\n",
      "dtype: int64\n"
     ]
    }
   ],
   "source": [
    "# Aggregating Statics with groupby\n",
    "# use the size method with a dataframe to get count \n",
    "# for a series , use the .value_counts method\n",
    "group_sizes = (data.groupby('species').size())\n",
    "\n",
    "print(group_sizes)"
   ]
  },
  {
   "cell_type": "code",
   "execution_count": 28,
   "metadata": {},
   "outputs": [
    {
     "name": "stdout",
     "output_type": "stream",
     "text": [
      "sepal_length     5.843333\n",
      "sepal_width      3.054000\n",
      "petal_length     3.758667\n",
      "petal_width      1.198667\n",
      "sepal_area      17.806533\n",
      "dtype: float64\n",
      "4.35\n",
      "0    1.5\n",
      "Name: petal_length, dtype: float64\n"
     ]
    },
    {
     "name": "stderr",
     "output_type": "stream",
     "text": [
      "/tmp/ipykernel_76535/2467573809.py:4: FutureWarning: The default value of numeric_only in DataFrame.mean is deprecated. In a future version, it will default to False. In addition, specifying 'numeric_only=None' is deprecated. Select only valid columns or specify the value of numeric_only to silence this warning.\n",
      "  print(data.mean())\n"
     ]
    }
   ],
   "source": [
    "# Performing statistical calculations - mean, mediam, mode \n",
    "\n",
    "#mean calculated on a dataframe\n",
    "print(data.mean())\n",
    "\n",
    "#median calculated on a series\n",
    "print(data.petal_length.median())\n",
    "\n",
    "# mode calculated on a series \n",
    "print(data.petal_length.mode())"
   ]
  },
  {
   "cell_type": "code",
   "execution_count": 31,
   "metadata": {},
   "outputs": [
    {
     "name": "stdout",
     "output_type": "stream",
     "text": [
      "1.7644204199522626 3.113179418344519 0.1440643240210085\n",
      "sepal_length     4.3\n",
      "sepal_width      2.0\n",
      "petal_length     1.0\n",
      "petal_width      0.1\n",
      "sepal_area      10.0\n",
      "Name: 0.0, dtype: float64\n"
     ]
    },
    {
     "name": "stderr",
     "output_type": "stream",
     "text": [
      "/tmp/ipykernel_76535/3739118475.py:8: FutureWarning: The default value of numeric_only in DataFrame.quantile is deprecated. In a future version, it will default to False. Select only valid columns or specify the value of numeric_only to silence this warning.\n",
      "  print(data.quantile(0))\n"
     ]
    }
   ],
   "source": [
    "#standard dev, variance, and SEM\n",
    "print(\n",
    "data.petal_length.std(), \n",
    "data.petal_length.var(), \n",
    "data.petal_length.sem())\n",
    "\n",
    "#quatiles\n",
    "print(data.quantile(0))"
   ]
  },
  {
   "cell_type": "code",
   "execution_count": 33,
   "metadata": {},
   "outputs": [
    {
     "name": "stdout",
     "output_type": "stream",
     "text": [
      "       sepal_length  sepal_width  petal_length  petal_width  sepal_area\n",
      "count    150.000000   150.000000    150.000000   150.000000  150.000000\n",
      "mean       5.843333     3.054000      3.758667     1.198667   17.806533\n",
      "std        0.828066     0.433594      1.764420     0.763161    3.368693\n",
      "min        4.300000     2.000000      1.000000     0.100000   10.000000\n",
      "25%        5.100000     2.800000      1.600000     0.300000   15.645000\n",
      "50%        5.800000     3.000000      4.350000     1.300000   17.660000\n",
      "75%        6.400000     3.300000      5.100000     1.800000   20.325000\n",
      "max        7.900000     4.400000      6.900000     2.500000   30.020000\n"
     ]
    }
   ],
   "source": [
    "# performing statistical calculations \n",
    "# multiple calculations can be presented in a dataframe \n",
    "\n",
    "print(data.describe())"
   ]
  },
  {
   "cell_type": "code",
   "execution_count": 35,
   "metadata": {},
   "outputs": [
    {
     "name": "stdout",
     "output_type": "stream",
     "text": [
      "             species  sepal_area      abbrev\n",
      "73   Iris-versicolor       17.08  versicolor\n",
      "18       Iris-setosa       21.66      setosa\n",
      "118   Iris-virginica       20.02   virginica\n",
      "78   Iris-versicolor       17.40  versicolor\n",
      "76   Iris-versicolor       19.04  versicolor\n"
     ]
    }
   ],
   "source": [
    "# sampling from dataframes \n",
    "# dataframes can be randomly sampled \n",
    "\n",
    "# sample 5 rows without replacement\n",
    "sample = data.sample(n=5 , replace = False, random_state=42)\n",
    "\n",
    "print(sample.iloc[:,-3:])"
   ]
  }
 ],
 "metadata": {
  "kernelspec": {
   "display_name": "Python 3",
   "language": "python",
   "name": "python3"
  },
  "language_info": {
   "codemirror_mode": {
    "name": "ipython",
    "version": 3
   },
   "file_extension": ".py",
   "mimetype": "text/x-python",
   "name": "python",
   "nbconvert_exporter": "python",
   "pygments_lexer": "ipython3",
   "version": "3.8.10"
  },
  "orig_nbformat": 4,
  "vscode": {
   "interpreter": {
    "hash": "916dbcbb3f70747c44a77c7bcd40155683ae19c65e1c03b4aa3499c5328201f1"
   }
  }
 },
 "nbformat": 4,
 "nbformat_minor": 2
}
